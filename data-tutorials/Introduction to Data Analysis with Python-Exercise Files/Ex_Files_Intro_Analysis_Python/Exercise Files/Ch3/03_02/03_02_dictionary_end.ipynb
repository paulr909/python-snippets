{
 "cells": [
  {
   "cell_type": "code",
   "execution_count": 1,
   "metadata": {
    "collapsed": true,
    "ExecuteTime": {
     "end_time": "2023-08-24T17:22:22.993565Z",
     "start_time": "2023-08-24T17:22:22.984404Z"
    }
   },
   "outputs": [],
   "source": [
    "word = open('words','r')"
   ]
  },
  {
   "cell_type": "code",
   "execution_count": 2,
   "metadata": {
    "collapsed": false,
    "ExecuteTime": {
     "end_time": "2023-08-24T17:22:25.807626Z",
     "start_time": "2023-08-24T17:22:25.785326Z"
    }
   },
   "outputs": [
    {
     "data": {
      "text/plain": "<_io.TextIOWrapper name='words' mode='r' encoding='UTF-8'>"
     },
     "execution_count": 2,
     "metadata": {},
     "output_type": "execute_result"
    }
   ],
   "source": [
    "word"
   ]
  },
  {
   "cell_type": "code",
   "execution_count": 3,
   "metadata": {
    "collapsed": true,
    "ExecuteTime": {
     "end_time": "2023-08-24T17:22:27.589416Z",
     "start_time": "2023-08-24T17:22:27.550505Z"
    }
   },
   "outputs": [],
   "source": [
    "wordlist = word.readlines()"
   ]
  },
  {
   "cell_type": "code",
   "execution_count": 4,
   "metadata": {
    "collapsed": false,
    "scrolled": false,
    "ExecuteTime": {
     "end_time": "2023-08-24T17:22:28.480952Z",
     "start_time": "2023-08-24T17:22:28.474142Z"
    }
   },
   "outputs": [
    {
     "data": {
      "text/plain": "['A\\n',\n 'a\\n',\n 'aa\\n',\n 'aal\\n',\n 'aalii\\n',\n 'aam\\n',\n 'Aani\\n',\n 'aardvark\\n',\n 'aardwolf\\n',\n 'Aaron\\n']"
     },
     "execution_count": 4,
     "metadata": {},
     "output_type": "execute_result"
    }
   ],
   "source": [
    "wordlist[:10]"
   ]
  },
  {
   "cell_type": "code",
   "execution_count": 5,
   "metadata": {
    "collapsed": false,
    "ExecuteTime": {
     "end_time": "2023-08-24T17:22:29.334035Z",
     "start_time": "2023-08-24T17:22:29.325483Z"
    }
   },
   "outputs": [
    {
     "data": {
      "text/plain": "235886"
     },
     "execution_count": 5,
     "metadata": {},
     "output_type": "execute_result"
    }
   ],
   "source": [
    "len(wordlist)"
   ]
  },
  {
   "cell_type": "code",
   "execution_count": 6,
   "metadata": {
    "collapsed": false,
    "ExecuteTime": {
     "end_time": "2023-08-24T17:22:30.061166Z",
     "start_time": "2023-08-24T17:22:30.048608Z"
    }
   },
   "outputs": [
    {
     "data": {
      "text/plain": "'Aaron'"
     },
     "execution_count": 6,
     "metadata": {},
     "output_type": "execute_result"
    }
   ],
   "source": [
    "'Aaron\\n'.strip()"
   ]
  },
  {
   "cell_type": "code",
   "execution_count": 7,
   "metadata": {
    "collapsed": false,
    "ExecuteTime": {
     "end_time": "2023-08-24T17:22:30.897936Z",
     "start_time": "2023-08-24T17:22:30.885326Z"
    }
   },
   "outputs": [
    {
     "data": {
      "text/plain": "'aaron'"
     },
     "execution_count": 7,
     "metadata": {},
     "output_type": "execute_result"
    }
   ],
   "source": [
    "'Aaron'.lower()"
   ]
  },
  {
   "cell_type": "code",
   "execution_count": 8,
   "metadata": {
    "collapsed": true,
    "ExecuteTime": {
     "end_time": "2023-08-24T17:22:31.512905Z",
     "start_time": "2023-08-24T17:22:31.471971Z"
    }
   },
   "outputs": [],
   "source": [
    "wordclean = [word.strip().lower() for word in wordlist]"
   ]
  },
  {
   "cell_type": "code",
   "execution_count": 9,
   "metadata": {
    "collapsed": false,
    "ExecuteTime": {
     "end_time": "2023-08-24T17:22:32.022743Z",
     "start_time": "2023-08-24T17:22:32.013742Z"
    }
   },
   "outputs": [
    {
     "data": {
      "text/plain": "['a',\n 'a',\n 'aa',\n 'aal',\n 'aalii',\n 'aam',\n 'aani',\n 'aardvark',\n 'aardwolf',\n 'aaron']"
     },
     "execution_count": 9,
     "metadata": {},
     "output_type": "execute_result"
    }
   ],
   "source": [
    "wordclean[:10]"
   ]
  },
  {
   "cell_type": "code",
   "execution_count": 10,
   "metadata": {
    "collapsed": true,
    "ExecuteTime": {
     "end_time": "2023-08-24T17:22:32.730559Z",
     "start_time": "2023-08-24T17:22:32.726246Z"
    }
   },
   "outputs": [],
   "source": [
    "wordunique = list(set(wordclean))"
   ]
  },
  {
   "cell_type": "code",
   "execution_count": 11,
   "metadata": {
    "collapsed": false,
    "ExecuteTime": {
     "end_time": "2023-08-24T17:22:33.460333Z",
     "start_time": "2023-08-24T17:22:33.452989Z"
    }
   },
   "outputs": [
    {
     "data": {
      "text/plain": "['murder',\n 'managemental',\n 'winninish',\n 'conservatorship',\n 'gramophone',\n 'tambourine',\n 'volatileness',\n 'castigatory',\n 'smoothness',\n 'lioncel',\n 'amblygon',\n 'priestish',\n 'photomicroscopy',\n 'tactuality',\n 'cartage',\n 'animatedly',\n 'banditism',\n 'impunctuality',\n 'decorous',\n 'lentibulariaceous',\n 'lundyfoot',\n 'synethnic',\n 'unexultant',\n 'unserviceableness',\n 'rhumb',\n 'blindfast',\n 'ischial',\n 'parentally',\n 'dischargeable',\n 'biwinter',\n 'ribhus',\n 'inshore',\n 'balanocele',\n 'explanative',\n 'mossed',\n 'carroch',\n 'insuetude',\n 'unspoken',\n 'foreship',\n 'knickknackatory',\n 'opisthogyrous',\n 'excurvate',\n 'semitubular',\n 'unbale',\n 'precarium',\n 'vaporize',\n 'transept',\n 'prenatalist',\n 'unwaged',\n 'ultrafrivolous',\n 'isodiazotate',\n 'impatronize',\n 'azlactone',\n 'gynophoric',\n 'tailet',\n 'tragulus',\n 'salar',\n 'unbendable',\n 'whelpless',\n 'unsoiled',\n 'premier',\n 'enunciator',\n 'samarra',\n 'babloh',\n 'cosphered',\n 'spitzenburg',\n 'lastness',\n 'carpocratian',\n 'ailuroid',\n 'acanthoid',\n 'doughiness',\n 'lors',\n 'blastophyllum',\n 'lugworm',\n 'stenosepalous',\n 'tuscarora',\n 'scufflingly',\n 'krona',\n 'nondialectical',\n 'danda',\n 'sfoot',\n 'irradicable',\n 'towline',\n 'unthrifty',\n 'aquocellolitis',\n 'commiserable',\n 'benzoiodohydrin',\n 'megaphotography',\n 'overfelon',\n 'prolabor',\n 'protoselachii',\n 'upraise',\n 'aeronautism',\n 'hobbyhorsical',\n 'dissogeny',\n 'almoravides',\n 'fodder',\n 'jacuaru',\n 'myxomatosis',\n 'pyrosulphite',\n 'reuplift',\n 'aquose',\n 'cephaelis',\n 'connivant',\n 'acataposis',\n 'miction',\n 'hymenopteron',\n 'ramular',\n 'rollickingness',\n 'keen',\n 'unblade',\n 'aumrie',\n 'lingoum',\n 'stannous',\n 'hair',\n 'diphenylguanidine',\n 'ectrodactylia',\n 'lujaurite',\n 'white',\n 'unbowered',\n 'cadmus',\n 'diplomatical',\n 'racketer',\n 'odd',\n 'camphoronic',\n 'columbate',\n 'tinstuff',\n 'atlas',\n 'yomer',\n 'reglorified',\n 'euclideanism',\n 'iglulirmiut',\n 'semiped',\n 'jaborine',\n 'lacunar',\n 'nirmanakaya',\n 'dope',\n 'skinflintiness',\n 'bargelike',\n 'trussmaking',\n 'antiquer',\n 'boyardism',\n 'triformity',\n 'composite',\n 'toi',\n 'consecrative',\n 'browden',\n 'convoluted',\n 'modernize',\n 'prasine',\n 'dextraural',\n 'dilapidation',\n 'stereoneural',\n 'undelve',\n 'racemomethylate',\n 'rover',\n 'strikebreaker',\n 'alveolonasal',\n 'prehistorically',\n 'hurter',\n 'acrospore',\n 'ovibos',\n 'indeclinably',\n 'truthsman',\n 'plumy',\n 'cephalomeningitis',\n 'proofread',\n 'violet',\n 'interdine',\n 'adsorptive',\n 'commiseratively',\n 'fermentitious',\n 'hoggy',\n 'furiously',\n 'polymorpha',\n 'monotony',\n 'skinlike',\n 'anarchically',\n 'dentaliidae',\n 'sapiency',\n 'yakona',\n 'puist',\n 'hyblaea',\n 'soaking',\n 'impregnability',\n 'countersubject',\n 'oversolemn',\n 'butyral',\n 'enargite',\n 'bathflower',\n 'glaucidium',\n 'hateable',\n 'convertism',\n 'grafship',\n 'lacerate',\n 'reallotment',\n 'succuba',\n 'kibitka',\n 'anglomania',\n 'atmometer',\n 'cardinalate',\n 'acataphasia',\n 'nickerpecker',\n 'premilitary',\n 'dipsas',\n 'pinch',\n 'windmilly',\n 'delectably',\n 'robotlike',\n 'synagogical',\n 'autoactive',\n 'taluhet',\n 'misprovoke',\n 'budgetful',\n 'unbrothered',\n 'nonjurist',\n 'blenniiform',\n 'siglos',\n 'pilgrimage',\n 'atrocha',\n 'pereiopod',\n 'chytridiales',\n 'passageable',\n 'prequote',\n 'connectively',\n 'sahoukar',\n 'batakan',\n 'demagnetization',\n 'nextly',\n 'imploringness',\n 'teratology',\n 'pyke',\n 'redispute',\n 'syncraniate',\n 'asprout',\n 'autoactivation',\n 'oscillance',\n 'sarcophilous',\n 'interlace',\n 'lieger',\n 'upsoar',\n 'announce',\n 'isochasm',\n 'caunch',\n 'deaminase',\n 'callo',\n 'forecomingness',\n 'lingulella',\n 'indiscriminatingly',\n 'tessaraphthong',\n 'unremonstrant',\n 'fingerflower',\n 'mendicant',\n 'rend',\n 'boracous',\n 'fasinite',\n 'antisubstance',\n 'necessitously',\n 'lability',\n 'postischial',\n 'criminatory',\n 'immunologically',\n 'asper',\n 'eluate',\n 'calpack',\n 'uneducative',\n 'lagarto',\n 'spring',\n 'arista',\n 'implicational',\n 'reliquidate',\n 'laparotomist',\n 'gradualist',\n 'infinitive',\n 'netherstock',\n 'archiater',\n 'dermatography',\n 'terakihi',\n 'aoul',\n 'numinously',\n 'ostracodous',\n 'beleaf',\n 'maieutical',\n 'nosohemia',\n 'africanization',\n 'phototrope',\n 'overtint',\n 'twelvemo',\n 'heedlessness',\n 'spinoperipheral',\n 'spiralwise',\n 'becense',\n 'cantharophilous',\n 'ledge',\n 'cookee',\n 'palaeentomology',\n 'calicate',\n 'nonselective',\n 'soldiership',\n 'possessionist',\n 'stonied',\n 'beltwise',\n 'moslemism',\n 'basic',\n 'platty',\n 'anelectrotonus',\n 'leadoff',\n 'guiba',\n 'congener',\n 'epigrammatical',\n 'eupatorium',\n 'forespencer',\n 'obsessor',\n 'boza',\n 'thiobacteriales',\n 'vanquisher',\n 'melomania',\n 'snobscat',\n 'deregister',\n 'territorialize',\n 'turmeric',\n 'synodist',\n 'rattoner',\n 'jewlike',\n 'apterial',\n 'alphonist',\n 'divert',\n 'physiolatrous',\n 'nargil',\n 'reedbird',\n 'muslinet',\n 'unsigned',\n 'nonsporting',\n 'hairy',\n 'gawn',\n 'illuminable',\n 'decadation',\n 'uninterwoven',\n 'statable',\n 'retinoscopy',\n 'galiongee',\n 'varronia',\n 'bluebeardism',\n 'autistic',\n 'fasciately',\n 'blondine',\n 'palaeontographical',\n 'pardoning',\n 'unpanel',\n 'shelf',\n 'rosetted',\n 'diadema',\n 'orthopedy',\n 'dimethylaniline',\n 'glagolic',\n 'equatorward',\n 'mistigris',\n 'unheaved',\n 'berber',\n 'prevalescent',\n 'spiritlessness',\n 'eutechnic',\n 'holmic',\n 'pseudophenanthrene',\n 'parapteron',\n 'sarkar',\n 'pawner',\n 'sulphocarbolate',\n 'vivianite',\n 'futural',\n 'sigillaroid',\n 'unlovely',\n 'undermentioned',\n 'nonancestral',\n 'protophyta',\n 'precedentless',\n 'dumfounderment',\n 'comer',\n 'unmobilized',\n 'manumotive',\n 'migrationist',\n 'etheria',\n 'signlike',\n 'kidskin',\n 'unreportedly',\n 'wellborn',\n 'diathermancy',\n 'holdable',\n 'morphic',\n 'sodaic',\n 'exobasidiales',\n 'bulrush',\n 'bacteriaceous',\n 'mutarotate',\n 'multireflex',\n 'palatial',\n 'unoriginality',\n 'penalizable',\n 'cruent',\n 'petardeer',\n 'autosyndesis',\n 'burse',\n 'pawnbrokery',\n 'stenocrotaphia',\n 'diadelphic',\n 'ungratefully',\n 'pirrmaw',\n 'nontransferable',\n 'crucifixion',\n 'microcoleoptera',\n 'panical',\n 'intellectualize',\n 'supplicantly',\n 'breithauptite',\n 'resulting',\n 'superassertion',\n 'adustiosis',\n 'raven',\n 'amphibia',\n 'cachou',\n 'chauth',\n 'cetid',\n 'ablow',\n 'chyle',\n 'threptic',\n 'homogamic',\n 'serodiagnosis',\n 'exflagellate',\n 'subduing',\n 'violentness',\n 'ristori',\n 'kinkcough',\n 'inkhornize',\n 'preloss',\n 'neurocirculatory',\n 'blype',\n 'determinant',\n 'bordroom',\n 'confectionery',\n 'uncanonized',\n 'schone',\n 'timazite',\n 'prepubis',\n 'deviled',\n 'shkupetar',\n 'albuminorrhea',\n 'marhala',\n 'panathenaea',\n 'encourage',\n 'photoelectric',\n 'ornithopoda',\n 'inflorescence',\n 'migraine',\n 'pallholder',\n 'typhonic',\n 'overmild',\n 'cyanine',\n 'loka',\n 'ocneria',\n 'ravenwise',\n 'location',\n 'thalesia',\n 'pentagrammatic',\n 'limnetic',\n 'chiromancer',\n 'dreggily',\n 'monimia',\n 'discept',\n 'oilproofing',\n 'unfrenchified',\n 'defendable',\n 'cytologic',\n 'anthracometric',\n 'plagiotropism',\n 'sevennight',\n 'conspecific',\n 'paedomorphic',\n 'tragelaphine',\n 'unpressed',\n 'libelluloid',\n 'whitecup',\n 'disaccharose',\n 'turkmenian',\n 'hexadiene',\n 'autoconduction',\n 'streamling',\n 'wielder',\n 'citrination',\n 'occupier',\n 'autorrhaphy',\n 'content',\n 'mushabbihite',\n 'ean',\n 'counteractive',\n 'splanchnoptosis',\n 'sulphonephthalein',\n 'archorrhea',\n 'urogenic',\n 'moray',\n 'uncontemplated',\n 'unskimmed',\n 'gregarinous',\n 'protrusile',\n 'hornstone',\n 'hypercube',\n 'iota',\n 'papilionoidea',\n 'repleader',\n 'protocneme',\n 'armageddon',\n 'cull',\n 'overeyebrowed',\n 'forbearance',\n 'continuedly',\n 'pharmacognostical',\n 'velvetry',\n 'ambitus',\n 'mabel',\n 'nisse',\n 'corach',\n 'keta',\n 'holomyarian',\n 'katabolically',\n 'scapigerous',\n 'satireproof',\n 'wondrously',\n 'niellated',\n 'seaconny',\n 'tropostereoscope',\n 'diazoate',\n 'proauthor',\n 'mazanderani',\n 'ferricyanic',\n 'deliriousness',\n 'ichthyosauria',\n 'quinaielt',\n 'abecedary',\n 'cataclysm',\n 'forbear',\n 'chalicotheriid',\n 'sklate',\n 'anecdota',\n 'cudgerie',\n 'maddle',\n 'retinochorioidal',\n 'dislocability',\n 'hyperkinetic',\n 'teagardeny',\n 'branchellion',\n 'unmortified',\n 'pericementitis',\n 'accretive',\n 'gamblesomeness',\n 'bogum',\n 'gladiator',\n 'hemiglyph',\n 'coeliorrhoea',\n 'cloakless',\n 'cryophyllite',\n 'alternatingly',\n 'pliciferous',\n 'ispravnik',\n 'autoscopy',\n 'lithonephria',\n 'achuas',\n 'asterolepidae',\n 'indesirable',\n 'sincerity',\n 'vomiter',\n 'iridaceous',\n 'phenomenic',\n 'cubito',\n 'laemoparalysis',\n 'quizzify',\n 'swinging',\n 'uricaemic',\n 'plashet',\n 'personed',\n 'foliar',\n 'chide',\n 'agleam',\n 'filoplume',\n 'unconcludingness',\n 'promotress',\n 'ptotic',\n 'enure',\n 'jinkle',\n 'prenatal',\n 'resymbolization',\n 'northland',\n 'bovarism',\n 'proceeding',\n 'square',\n 'imitatrix',\n 'isoclinal',\n 'ovomucoid',\n 'overbrim',\n 'groats',\n 'brachiopodist',\n 'umbellulate',\n 'phoniatrics',\n 'collidine',\n 'graduation',\n 'thereamongst',\n 'catharistic',\n 'underlodging',\n 'mislest',\n 'stealthfully',\n 'atweel',\n 'unplucked',\n 'subdelegate',\n 'strawsmall',\n 'atuami',\n 'lanose',\n 'tonsurate',\n 'overbeetling',\n 'hauberget',\n 'homofermentative',\n 'swordfishing',\n 'sensationally',\n 'pyromeconic',\n 'odontocete',\n 'hectorian',\n 'pearten',\n 'orthodromic',\n 'reheal',\n 'buttress',\n 'backstretch',\n 'sapiently',\n 'laminariaceous',\n 'metosteal',\n 'sleevefish',\n 'anomodont',\n 'overhead',\n 'erudit',\n 'metatarsophalangeal',\n 'swine',\n 'amove',\n 'mascotism',\n 'sig',\n 'superpositive',\n 'kirghizean',\n 'testification',\n 'unwindingly',\n 'etioporphyrin',\n 'meditate',\n 'uncarefulness',\n 'untabernacled',\n 'aristotype',\n 'qualificative',\n 'stoga',\n 'unfenced',\n 'amphispore',\n 'inn',\n 'aquilino',\n 'lionizable',\n 'rhabdomonas',\n 'calorist',\n 'dwindle',\n 'labiolingual',\n 'flagellation',\n 'ronsdorfian',\n 'trolly',\n 'addlepate',\n 'haematite',\n 'vallary',\n 'trifoliolate',\n 'overcentralization',\n 'galuchat',\n 'tautonymy',\n 'amygdalaceae',\n 'finific',\n 'nonrevolutionary',\n 'rabbitroot',\n 'jobmonger',\n 'propionitril',\n 'sealless',\n 'selbergite',\n 'lilliput',\n 'hacklog',\n 'katabasis',\n 'saprogenous',\n 'adhesiveness',\n 'cherishable',\n 'grouseward',\n 'silicium',\n 'buccolabial',\n 'drachmai',\n 'faradomuscular',\n 'piccadill',\n 'sillographist',\n 'conjunctiva',\n 'struthiomimus',\n 'etherealness',\n 'precomposition',\n 'freemanship',\n 'endocervicitis',\n 'foreadvertise',\n 'hypermorphosis',\n 'inflammableness',\n 'endothelioblastoma',\n 'testimonialize',\n 'ultranonsensical',\n 'impenitently',\n 'swillbowl',\n 'estivage',\n 'platyhelminth',\n 'photoglyphography',\n 'fourpence',\n 'canned',\n 'capernaitical',\n 'lochus',\n 'consumpted',\n 'susu',\n 'hopi',\n 'temperably',\n 'sensomobility',\n 'cohesibility',\n 'unengineered',\n 'columbic',\n 'inerudite',\n 'strengthening',\n 'preconditioned',\n 'gandermooner',\n 'rivulet',\n 'yeasty',\n 'undisclaimed',\n 'agromyzidae',\n 'prorata',\n 'captivately',\n 'reprisal',\n 'orchidotomy',\n 'hybla',\n 'cossnent',\n 'doyle',\n 'ricininic',\n 'pathos',\n 'chrysoaristocracy',\n 'croup',\n 'laryngismal',\n 'phrenocardiac',\n 'ravenelia',\n 'anticipative',\n 'micellar',\n 'preliterate',\n 'phonelescope',\n 'antipragmatist',\n 'reundergo',\n 'actually',\n 'defilade',\n 'concretism',\n 'acrocyst',\n 'paleographical',\n 'ventrodorsad',\n 'paradenitis',\n 'subsequentness',\n 'humane',\n 'colmar',\n 'innominables',\n 'joltingly',\n 'unpedigreed',\n 'waterchat',\n 'sibling',\n 'insistently',\n 'torpedinidae',\n 'unhistorical',\n 'dupe',\n 'animadversion',\n 'misrepeat',\n 'cofferwork',\n 'languishingly',\n 'canyon',\n 'unpurpled',\n 'mesmerically',\n 'untrace',\n 'electrodispersive',\n 'poignantly',\n 'conger',\n 'hemapophysial',\n 'hurlbarrow',\n 'chaetetes',\n 'melanchthonian',\n 'arecolidin',\n 'historier',\n 'bronchomotor',\n 'megophthalmus',\n 'subclan',\n 'achromatopia',\n 'gastropore',\n 'hemogregarine',\n 'blepharocera',\n 'shedman',\n 'tzontle',\n 'emetic',\n 'carphophis',\n 'glossographer',\n 'unfrequency',\n 'wahabiism',\n 'microchemic',\n 'collenchyme',\n 'aquavit',\n 'harlequinic',\n 'insupportable',\n 'sternutative',\n 'superexiguity',\n 'shemite',\n 'nonpeltast',\n 'orichalch',\n 'unca',\n 'ilian',\n 'monotrochian',\n 'harmonite',\n 'homovanillic',\n 'plegaphonia',\n 'lawsoneve',\n 'orthic',\n 'torpedoer',\n 'unfomented',\n 'leftover',\n 'retinker',\n 'acromicria',\n 'arthropleura',\n 'temporally',\n 'regrade',\n 'aspidoganoidei',\n 'prehorizon',\n 'plebeity',\n 'boser',\n 'trochaic',\n 'mandyas',\n 'andesinite',\n 'thaumatolatry',\n 'unawaredly',\n 'henotheistic',\n 'mowburnt',\n 'personableness',\n 'resilition',\n 'methodically',\n 'knifeproof',\n 'precursor',\n 'prawny',\n 'rickyard',\n 'metis',\n 'gramophonically',\n 'megaton',\n 'decelerate',\n 'oligist',\n 'vomerine',\n 'tubmaker',\n 'astor',\n 'puniceous',\n 'vidette',\n 'dicing',\n 'lawlessness',\n 'squishy',\n 'unhead',\n 'valkyrian',\n 'believability',\n 'reginal',\n 'apprehend',\n 'rethrill',\n 'ploceidae',\n 'rebale',\n 'mutilous',\n 'methyl',\n 'valeraldehyde',\n 'exoperidium',\n 'aphototropic',\n 'colocynth',\n 'amidocaffeine',\n 'lernaea',\n 'pyrenodean',\n 'isonomy',\n 'snithe',\n 'vallota',\n 'deconcentration',\n 'decorticate',\n 'pterodactylus',\n 'apophysate',\n 'micrometrical',\n 'giddily',\n 'flamed',\n 'abysmally',\n 'splendacious',\n 'unpretermitted',\n 'rochelime',\n 'mesophyll',\n 'moisty',\n 'gadger',\n 'quenchlessly',\n 'supergovern',\n 'ichthyophthalmite',\n 'vower',\n 'fosie',\n 'sermonet',\n 'syntenosis',\n 'uniter',\n 'autocarpic',\n 'polysomatous',\n 'rounder',\n 'cheerlessly',\n 'pluglike',\n 'canellaceous',\n 'dagbane',\n 'sivvens',\n 'allottable',\n 'homothallism',\n 'scofflaw',\n 'eon',\n 'wildishness',\n 'humeral',\n 'inearth',\n 'abiogenous',\n 'snakeflower',\n 'annat',\n 'convenership',\n 'corylin',\n 'denitrify',\n 'inertance',\n 'intellective',\n 'ree',\n 'seroot',\n 'superhumanize',\n 'authigenous',\n 'disorient',\n 'untar',\n 'meddlement',\n 'raduliform',\n 'quaternarian',\n 'friableness',\n 'cingular',\n 'pierhead',\n 'calbroben',\n 'besweeten',\n 'isocreosol',\n 'sincipital',\n 'suckfish',\n 'circuity',\n 'dispersoid',\n 'subvariety',\n 'viburnic',\n 'mascleless',\n 'espriella',\n 'equalizer',\n 'reburden',\n 'gastroadenitis',\n 'uncoaxable',\n 'greentail',\n 'pulsometer',\n 'raspite',\n 'empire',\n 'bibliothec',\n 'facsimile',\n 'chrysocracy',\n 'unnorthern',\n 'cluniac',\n 'mande',\n 'kodaker',\n 'violette',\n 'shadowlessness',\n 'synchronological',\n 'triturature',\n 'wendic',\n 'riggite',\n 'impoliticalness',\n 'unindifferency',\n 'uncollectedly',\n 'sensoriglandular',\n 'duskishness',\n 'expellable',\n 'cannibalistic',\n 'frigorifical',\n 'chittamwood',\n 'vedana',\n 'dubitatingly',\n 'blay',\n 'brevifoliate',\n 'satanical',\n 'unphosphatized',\n 'semicordate',\n 'sagenite',\n 'peritonism',\n 'pontification',\n 'wetched',\n 'hemivagotony',\n 'tally',\n 'heterocephalous',\n 'prevent',\n 'sproutful',\n 'fasciculus',\n 'praesertim',\n 'toreumatology',\n 'faon',\n 'covert',\n 'seigneur',\n 'taipan',\n 'turgescence',\n 'micropia',\n 'cataloguist',\n 'silico',\n ...]"
     },
     "execution_count": 11,
     "metadata": {},
     "output_type": "execute_result"
    }
   ],
   "source": [
    "wordunique"
   ]
  },
  {
   "cell_type": "code",
   "execution_count": 12,
   "metadata": {
    "collapsed": true,
    "ExecuteTime": {
     "end_time": "2023-08-24T17:22:34.068767Z",
     "start_time": "2023-08-24T17:22:34.066129Z"
    }
   },
   "outputs": [],
   "source": [
    "wordunique.sort()"
   ]
  },
  {
   "cell_type": "code",
   "execution_count": 13,
   "metadata": {
    "collapsed": false,
    "ExecuteTime": {
     "end_time": "2023-08-24T17:22:34.389290Z",
     "start_time": "2023-08-24T17:22:34.372188Z"
    }
   },
   "outputs": [
    {
     "data": {
      "text/plain": "['a',\n 'aa',\n 'aal',\n 'aalii',\n 'aam',\n 'aani',\n 'aardvark',\n 'aardwolf',\n 'aaron',\n 'aaronic']"
     },
     "execution_count": 13,
     "metadata": {},
     "output_type": "execute_result"
    }
   ],
   "source": [
    "wordunique[:10]"
   ]
  },
  {
   "cell_type": "code",
   "execution_count": 14,
   "metadata": {
    "collapsed": true,
    "ExecuteTime": {
     "end_time": "2023-08-24T17:22:34.860529Z",
     "start_time": "2023-08-24T17:22:34.797389Z"
    }
   },
   "outputs": [],
   "source": [
    "wordclean = [word.strip().lower() for word in open('words','r')]"
   ]
  },
  {
   "cell_type": "code",
   "execution_count": 15,
   "metadata": {
    "collapsed": false,
    "ExecuteTime": {
     "end_time": "2023-08-24T17:22:35.312076Z",
     "start_time": "2023-08-24T17:22:35.299223Z"
    }
   },
   "outputs": [
    {
     "data": {
      "text/plain": "['a',\n 'a',\n 'aa',\n 'aal',\n 'aalii',\n 'aam',\n 'aani',\n 'aardvark',\n 'aardwolf',\n 'aaron']"
     },
     "execution_count": 15,
     "metadata": {},
     "output_type": "execute_result"
    }
   ],
   "source": [
    "wordclean[:10]"
   ]
  },
  {
   "cell_type": "code",
   "execution_count": 16,
   "metadata": {
    "collapsed": true,
    "ExecuteTime": {
     "end_time": "2023-08-24T17:22:35.989898Z",
     "start_time": "2023-08-24T17:22:35.779058Z"
    }
   },
   "outputs": [],
   "source": [
    "wordclean = sorted(list(set([word.strip().lower() for word in open('words','r')])))"
   ]
  },
  {
   "cell_type": "code",
   "execution_count": 17,
   "metadata": {
    "collapsed": false,
    "ExecuteTime": {
     "end_time": "2023-08-24T17:22:36.270469Z",
     "start_time": "2023-08-24T17:22:36.253860Z"
    }
   },
   "outputs": [
    {
     "data": {
      "text/plain": "['a',\n 'aa',\n 'aal',\n 'aalii',\n 'aam',\n 'aani',\n 'aardvark',\n 'aardwolf',\n 'aaron',\n 'aaronic']"
     },
     "execution_count": 17,
     "metadata": {},
     "output_type": "execute_result"
    }
   ],
   "source": [
    "wordclean[:10]"
   ]
  },
  {
   "cell_type": "code",
   "execution_count": 17,
   "metadata": {
    "collapsed": true,
    "ExecuteTime": {
     "end_time": "2023-08-24T17:22:37.721629Z",
     "start_time": "2023-08-24T17:22:37.691966Z"
    }
   },
   "outputs": [],
   "source": []
  },
  {
   "cell_type": "code",
   "execution_count": 17,
   "outputs": [],
   "source": [],
   "metadata": {
    "collapsed": false,
    "ExecuteTime": {
     "end_time": "2023-08-24T17:22:38.513695Z",
     "start_time": "2023-08-24T17:22:38.487944Z"
    }
   }
  },
  {
   "cell_type": "code",
   "execution_count": null,
   "outputs": [],
   "source": [],
   "metadata": {
    "collapsed": false
   }
  }
 ],
 "metadata": {
  "kernelspec": {
   "display_name": "Python 3",
   "language": "python",
   "name": "python3"
  },
  "language_info": {
   "codemirror_mode": {
    "name": "ipython",
    "version": 3
   },
   "file_extension": ".py",
   "mimetype": "text/x-python",
   "name": "python",
   "nbconvert_exporter": "python",
   "pygments_lexer": "ipython3",
   "version": "3.4.3"
  }
 },
 "nbformat": 4,
 "nbformat_minor": 0
}
